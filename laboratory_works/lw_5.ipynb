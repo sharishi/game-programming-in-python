{
 "cells": [
  {
   "metadata": {},
   "cell_type": "markdown",
   "source": [
    "**Лабораторная работа №5**\n",
    "\n",
    "**Тема:** Разработка интерактивного графического приложения на Python с использованием библиотеки Pygame.\n",
    "\n",
    "**Цель работы:** Разработать и усовершенствовать графическое приложение \"Камень-Ножницы-Бумага\" с использованием Pygame, улучшить его визуальное представление и расширить функциональные возможности.\n",
    "\n",
    "**Задания:**\n",
    "\n",
    "1. **Разобраться с исходным кодом**\n",
    "   - Ознакомиться с предоставленным кодом и принципами его работы.\n",
    "\n",
    "## Из нижепредоставленных вариантов выберите по 1-2 пункта:\n",
    "\n",
    "2. **Графические улучшения**\n",
    "   - Добавить фон или улучшенный интерфейс с использованием Pygame.\n",
    "   - Улучшить отображение текста, используя различные шрифты и стили.\n",
    "   - Добавить анимацию при выборе игроком и AI жеста.\n",
    "\n",
    "3. **Функциональные улучшения**\n",
    "   - Добавить возможность игры до определенного количества побед (например, до 3 очков).\n",
    "   - Добавить звуковые эффекты при выборе игрока и при выводе результата раунда.\n",
    "   - Добавить индикатор счета игрока и AI.\n",
    "   - Добавить кнопку \"Сброс\" для начала новой игры без перезапуска программы.\n",
    "\n",
    "\n",
    "4. **Дополнительные улучшения**\n",
    "   - Реализовать анимацию смены изображений при выборе игроком жеста.\n",
    "   - Добавить экран приветствия перед началом игры.\n",
    "   - Добавить тематическое музыкальное сопровождение.\n",
    "   - Добавить возможность выбора разных тем оформления игры.\n",
    "\n",
    "**Критерии оценки:**\n",
    "- Полнота выполнения всех основных заданий.\n",
    "- Качество визуального оформления.\n",
    "- Реализация дополнительных функций.\n",
    "- Читабельность и структурированность кода.\n",
    "\n",
    "\n",
    "#  Обязательно задание:\n",
    "- Необходимо реализовать следующий функционал:\n",
    "\n",
    "\n"
   ],
   "id": "2a6b34ea28f8eed6"
  },
  {
   "metadata": {},
   "cell_type": "markdown",
   "source": [
    "![Python for everything](../images/lw_5/img.png)\n",
    "\n"
   ],
   "id": "c62a9d291e92df5d"
  },
  {
   "metadata": {},
   "cell_type": "markdown",
   "source": [
    "**Выходные данные:**\n",
    "Готовое интерактивное приложение, демонстрирующее игру \"Камень-Ножницы-Бумага\" с улучшенным интерфейсом и расширенным функционалом."
   ],
   "id": "b33db3affe14963d"
  },
  {
   "metadata": {
    "ExecuteTime": {
     "end_time": "2025-03-25T19:12:53.234912Z",
     "start_time": "2025-03-25T19:12:52.133654Z"
    }
   },
   "cell_type": "code",
   "source": [
    "# Исходный код\n",
    "import pygame\n",
    "import random\n",
    "\n",
    "# Инициализация pygame\n",
    "pygame.init()\n",
    "\n",
    "# Константы\n",
    "WIDTH, HEIGHT = 600, 400\n",
    "WHITE = (255, 255, 255)\n",
    "BLACK = (0, 0, 0)\n",
    "FONT = pygame.font.Font(None, 36)\n",
    "CHOICES = [\"Камень\", \"Ножницы\", \"Бумага\"]\n",
    "\n",
    "\n",
    "screen = pygame.display.set_mode((WIDTH, HEIGHT))\n",
    "pygame.display.set_caption(\"Камень-Ножницы-Бумага\")\n",
    "\n",
    "rock_img = pygame.image.load(\"images/rock.png\")\n",
    "scissors_img = pygame.image.load(\"images/scissors.png\")\n",
    "paper_img = pygame.image.load(\"images/paper.png\")\n",
    "\n",
    "rock_img = pygame.transform.scale(rock_img, (100, 100))\n",
    "scissors_img = pygame.transform.scale(scissors_img, (100, 100))\n",
    "paper_img = pygame.transform.scale(paper_img, (100, 100))\n",
    "\n",
    "\n",
    "def get_winner(player_choice, ai_choice):\n",
    "    if player_choice == ai_choice:\n",
    "        return \"Ничья!\"\n",
    "    elif (player_choice == \"Камень\" and ai_choice == \"Ножницы\") or \\\n",
    "            (player_choice == \"Ножницы\" and ai_choice == \"Бумага\") or \\\n",
    "            (player_choice == \"Бумага\" and ai_choice == \"Камень\"):\n",
    "        return \"Игрок победил!\"\n",
    "    else:\n",
    "        return \"AI победил!\"\n",
    "\n",
    "\n",
    "running = True\n",
    "player_choice = None\n",
    "ai_choice = None\n",
    "result = \"Выберите жест!\"\n",
    "\n",
    "while running:\n",
    "    screen.fill(WHITE)\n",
    "\n",
    "    text = FONT.render(result, True, BLACK)\n",
    "    screen.blit(text, (WIDTH // 2 - text.get_width() // 2, 50))\n",
    "\n",
    "    screen.blit(rock_img, (100, 250))\n",
    "    screen.blit(scissors_img, (250, 250))\n",
    "    screen.blit(paper_img, (400, 250))\n",
    "\n",
    "    if player_choice:\n",
    "        screen.blit(\n",
    "            rock_img if player_choice == \"Камень\" else scissors_img if player_choice == \"Ножницы\" else paper_img,\n",
    "            (150, 100))\n",
    "    if ai_choice:\n",
    "        screen.blit(rock_img if ai_choice == \"Камень\" else scissors_img if ai_choice == \"Ножницы\" else paper_img,\n",
    "                    (350, 100))\n",
    "\n",
    "    pygame.display.flip()\n",
    "\n",
    "    for event in pygame.event.get():\n",
    "        if event.type == pygame.QUIT:\n",
    "            running = False\n",
    "        elif event.type == pygame.MOUSEBUTTONDOWN:\n",
    "            x, y = event.pos\n",
    "            if 100 <= x <= 200 and 250 <= y <= 350:\n",
    "                player_choice = \"Камень\"\n",
    "            elif 250 <= x <= 350 and 250 <= y <= 350:\n",
    "                player_choice = \"Ножницы\"\n",
    "            elif 400 <= x <= 500 and 250 <= y <= 350:\n",
    "                player_choice = \"Бумага\"\n",
    "\n",
    "            if player_choice:\n",
    "                ai_choice = random.choice(CHOICES)\n",
    "                result = get_winner(player_choice, ai_choice)\n",
    "\n",
    "pygame.quit()\n"
   ],
   "id": "e50db720d93f705",
   "outputs": [
    {
     "name": "stdout",
     "output_type": "stream",
     "text": [
      "pygame 2.6.1 (SDL 2.28.4, Python 3.11.4)\n",
      "Hello from the pygame community. https://www.pygame.org/contribute.html\n"
     ]
    },
    {
     "ename": "FileNotFoundError",
     "evalue": "No file 'images/rock.png' found in working directory 'C:\\Users\\Vica\\PycharmProjects\\game-programming-in-python\\laboratory_works'.",
     "output_type": "error",
     "traceback": [
      "\u001B[1;31m---------------------------------------------------------------------------\u001B[0m",
      "\u001B[1;31mFileNotFoundError\u001B[0m                         Traceback (most recent call last)",
      "Cell \u001B[1;32mIn[1], line 19\u001B[0m\n\u001B[0;32m     16\u001B[0m screen \u001B[38;5;241m=\u001B[39m pygame\u001B[38;5;241m.\u001B[39mdisplay\u001B[38;5;241m.\u001B[39mset_mode((WIDTH, HEIGHT))\n\u001B[0;32m     17\u001B[0m pygame\u001B[38;5;241m.\u001B[39mdisplay\u001B[38;5;241m.\u001B[39mset_caption(\u001B[38;5;124m\"\u001B[39m\u001B[38;5;124mКамень-Ножницы-Бумага\u001B[39m\u001B[38;5;124m\"\u001B[39m)\n\u001B[1;32m---> 19\u001B[0m rock_img \u001B[38;5;241m=\u001B[39m \u001B[43mpygame\u001B[49m\u001B[38;5;241;43m.\u001B[39;49m\u001B[43mimage\u001B[49m\u001B[38;5;241;43m.\u001B[39;49m\u001B[43mload\u001B[49m\u001B[43m(\u001B[49m\u001B[38;5;124;43m\"\u001B[39;49m\u001B[38;5;124;43mimages/rock.png\u001B[39;49m\u001B[38;5;124;43m\"\u001B[39;49m\u001B[43m)\u001B[49m\n\u001B[0;32m     20\u001B[0m scissors_img \u001B[38;5;241m=\u001B[39m pygame\u001B[38;5;241m.\u001B[39mimage\u001B[38;5;241m.\u001B[39mload(\u001B[38;5;124m\"\u001B[39m\u001B[38;5;124mimages/scissors.png\u001B[39m\u001B[38;5;124m\"\u001B[39m)\n\u001B[0;32m     21\u001B[0m paper_img \u001B[38;5;241m=\u001B[39m pygame\u001B[38;5;241m.\u001B[39mimage\u001B[38;5;241m.\u001B[39mload(\u001B[38;5;124m\"\u001B[39m\u001B[38;5;124mimages/paper.png\u001B[39m\u001B[38;5;124m\"\u001B[39m)\n",
      "\u001B[1;31mFileNotFoundError\u001B[0m: No file 'images/rock.png' found in working directory 'C:\\Users\\Vica\\PycharmProjects\\game-programming-in-python\\laboratory_works'."
     ]
    }
   ],
   "execution_count": 1
  },
  {
   "cell_type": "code",
   "execution_count": null,
   "id": "initial_id",
   "metadata": {
    "collapsed": true
   },
   "outputs": [],
   "source": "# напиши решение тут"
  }
 ],
 "metadata": {
  "kernelspec": {
   "display_name": "Python 3",
   "language": "python",
   "name": "python3"
  },
  "language_info": {
   "codemirror_mode": {
    "name": "ipython",
    "version": 2
   },
   "file_extension": ".py",
   "mimetype": "text/x-python",
   "name": "python",
   "nbconvert_exporter": "python",
   "pygments_lexer": "ipython2",
   "version": "2.7.6"
  }
 },
 "nbformat": 4,
 "nbformat_minor": 5
}
