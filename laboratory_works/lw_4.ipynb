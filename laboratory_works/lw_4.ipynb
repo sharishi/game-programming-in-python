{
 "cells": [
  {
   "metadata": {},
   "cell_type": "markdown",
   "source": "# Лабораторная №4",
   "id": "dbdc233127f696cc"
  },
  {
   "metadata": {},
   "cell_type": "markdown",
   "source": "## ООП",
   "id": "4d4d2deb96c025ef"
  },
  {
   "metadata": {},
   "cell_type": "markdown",
   "source": [
    "Необходимо разработать класс `Pet`, который будет представлять питомца в контексте системы управления отелем для животных. В классе должны быть инкапсулированы следующие свойства:\n",
    "\n",
    "1. **name**: имя питомца.\n",
    "2. **breed**: порода питомца.\n",
    "3. **age**: возраст питомца.\n",
    "\n",
    "Для каждого из этих свойств требуется реализовать методы доступа (геттеры) и методы изменения (сеттеры). Для этого используйте декораторы `@property` и `@<property_name>.setter`.\n",
    "\n",
    "#### Требования:\n",
    "1. Создайте класс `Pet`, который принимает три параметра в конструкторе: `name`, `breed` и `age`.\n",
    "2. Реализуйте геттеры для каждого из этих свойств с помощью декоратора `@property`.\n",
    "3. Реализуйте сеттеры для каждого из этих свойств с помощью декоратора `@<property_name>.setter`.\n",
    "4. Продемонстрируйте работу класса, создав объект `Pet` с определёнными значениями и изменив его свойства через сеттеры.\n",
    "\n"
   ],
   "id": "d3c53e7d4eb1979f"
  },
  {
   "cell_type": "code",
   "id": "initial_id",
   "metadata": {
    "collapsed": true,
    "ExecuteTime": {
     "end_time": "2024-12-09T12:51:53.511130Z",
     "start_time": "2024-12-09T12:51:53.509015Z"
    }
   },
   "source": [
    "class Pet:\n",
    "    def __init__(self, name, breed, age):\n",
    "        # Напиши решение тут\n",
    "        pass\n",
    "\n",
    "# Пример использования:\n",
    "pet = Pet(\"Лара\", \"Кошка\", 3)\n",
    "print(pet.name)  # Лара\n",
    "pet.age = 4\n",
    "print(pet.age)  # 4\n"
   ],
   "outputs": [],
   "execution_count": 2
  },
  {
   "metadata": {},
   "cell_type": "markdown",
   "source": "Создайте два класса-наследника Cat и Dog, которые будут добавлять уникальные атрибуты и методы для каждого типа животного.",
   "id": "1bfe9c139ee8f0f3"
  },
  {
   "metadata": {},
   "cell_type": "markdown",
   "source": [
    "#### Требования:\n",
    "\n",
    "1. **Класс `Cat`**, который наследуется от `Pet`, должен добавлять:\n",
    "   - **favorite_toy** (любимая игрушка).\n",
    "   - Метод `play()`, который возвращает строку, описывающую игру питомца с любимой игрушкой.\n",
    "\n",
    "2. **Класс `Dog`**, который также наследуется от `Pet`, должен добавлять:\n",
    "   - **trick** (трик, который питомец умеет выполнять).\n",
    "   - Метод `perform_trick()`, который возвращает строку с описанием выполнения трюка.\n",
    "\n",
    "3. Использовать **сеттеры** для изменения значений, например, для установки любимой игрушки у кошки и выполнения трюка у собаки.\n",
    "\n"
   ],
   "id": "d05408bff38706e3"
  },
  {
   "metadata": {
    "ExecuteTime": {
     "end_time": "2024-12-09T12:51:59.636606Z",
     "start_time": "2024-12-09T12:51:59.634915Z"
    }
   },
   "cell_type": "code",
   "source": [
    "class Cat(Pet):\n",
    "    def __init__(self, name, breed, age, favorite_toy):\n",
    "        # Напиши решение тут\n",
    "        pass\n",
    "\n",
    "class Dog(Pet):\n",
    "    def __init__(self, name, breed, age, trick):\n",
    "        # Напиши решение тут\n",
    "        pass\n",
    "\n",
    "# Пример использования:\n",
    "cat = Cat(\"Лара\", \"Кошка\", 3, \"мячик\")\n",
    "dog = Dog(\"Рекс\", \"Собака\", 5, \"крутит хвост\")\n",
    "\n",
    "print(cat.name)  # Лара\n",
    "cat.favorite_toy = \"ниточка\"\n",
    "print(cat.play())  # Лара играет с ниточка\n",
    "print(dog.name)  # Рекс\n",
    "print(dog.perform_trick())  # Рекс выполняет трюк: крутит хвост\n"
   ],
   "id": "887063e06668c41e",
   "outputs": [],
   "execution_count": null
  },
  {
   "metadata": {},
   "cell_type": "markdown",
   "source": [
    "Добавьте в классы Cat и Dog метод `make_sound()`, который будет выводить характерный звук для каждого животного.\\\n",
    "В методе `make_sound()` используйте полиморфизм с `@property`, чтобы каждый класс реализовал свой собственный звук."
   ],
   "id": "3e2c263e750c179a"
  },
  {
   "metadata": {},
   "cell_type": "markdown",
   "source": [
    "#### Требования:\n",
    "\n",
    "1. **Базовый класс `Pet`**:\n",
    "   - Должен содержать атрибуты: `name` (имя питомца), `breed` (порода) и `age` (возраст).\n",
    "   - Для каждого питомца должен быть предусмотрен метод `sound()`, который будет переопределяться в дочерних классах.\n",
    "   - Метод `sound()` должен быть абстрактным (с использованием исключения `NotImplementedError`), что означает, что дочерние классы обязаны реализовать этот метод.\n",
    "\n",
    "2. **Класс `Cat`, наследующий от `Pet`**:\n",
    "   - Добавьте атрибут `favorite_toy` (любимая игрушка).\n",
    "   - Переопределите метод `sound()`, чтобы выводить типичный для кошек звук, например, `\"Meow!\"`.\n",
    "   - Добавьте метод `make_sound()`, который будет выводить строку: `\"Имя питомца говорит: Meow!\"` с использованием полиморфизма через `@property`.\n",
    "\n",
    "3. **Класс `Dog`, наследующий от `Pet`**:\n",
    "   - Добавьте атрибут `trick` (трик, который питомец умеет выполнять).\n",
    "   - Переопределите метод `sound()`, чтобы выводить типичный для собак звук, например, `\"Woof!\"`.\n",
    "   - Добавьте метод `make_sound()`, который будет выводить строку: `\"Имя питомца говорит: Woof!\"` с использованием полиморфизма через `@property`.\n",
    "\n",
    "4. **Использование полиморфизма**:\n",
    "   - В методе `make_sound()` примените полиморфизм с использованием `@property` для каждого класса, чтобы метод динамически определял, какой звук воспроизводит питомец в зависимости от его типа.\n",
    "\n",
    "\n"
   ],
   "id": "e5db45bc0dd3d5c3"
  },
  {
   "metadata": {},
   "cell_type": "code",
   "outputs": [],
   "execution_count": null,
   "source": [
    "class Pet:\n",
    "    def __init__(self, name, breed, age):\n",
    "        self._name = name\n",
    "        self._breed = breed\n",
    "        self._age = age\n",
    "\n",
    "    def sound(self):\n",
    "        raise NotImplementedError(\"Метод sound должен быть переопределен в дочернем классе\")\n",
    "\n",
    "class Cat(Pet):\n",
    "    def __init__(self, name, breed, age, favorite_toy):\n",
    "        pass\n",
    "    def sound(self):\n",
    "        # Напиши решение тут\n",
    "        pass\n",
    "\n",
    "class Dog(Pet):\n",
    "    def __init__(self, name, breed, age, trick):\n",
    "        pass\n",
    "    def sound(self):\n",
    "        # Напиши решение тут\n",
    "        pass\n",
    "\n",
    "# Пример использования:\n",
    "cat = Cat(\"Lara\", \"Cat\", 3)\n",
    "dog = Dog(\"Rex\", \"Dog\", 5)\n",
    "\n",
    "print(cat.sound)  # Lara says: Meow!\n",
    "print(dog.sound)  # Rex says: Woof!\n"
   ],
   "id": "ec95ba6e38d157a5"
  },
  {
   "metadata": {},
   "cell_type": "code",
   "outputs": [],
   "execution_count": null,
   "source": "",
   "id": "d1a567f0e98281f1"
  }
 ],
 "metadata": {
  "kernelspec": {
   "display_name": "Python 3",
   "language": "python",
   "name": "python3"
  },
  "language_info": {
   "codemirror_mode": {
    "name": "ipython",
    "version": 2
   },
   "file_extension": ".py",
   "mimetype": "text/x-python",
   "name": "python",
   "nbconvert_exporter": "python",
   "pygments_lexer": "ipython2",
   "version": "2.7.6"
  }
 },
 "nbformat": 4,
 "nbformat_minor": 5
}
